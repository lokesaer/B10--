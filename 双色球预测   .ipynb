{
 "cells": [
  {
   "cell_type": "code",
   "execution_count": 50,
   "metadata": {},
   "outputs": [],
   "source": [
    "import matplotlib.pyplot as plt\n",
    "from sklearn.model_selection import train_test_split\n",
    "import numpy as np\n",
    "import pandas as pdt\n",
    "import csv\n",
    "plt.rcParams['font.sans-serif']=['SimHei']\n",
    "plt.rcParams['axes.unicode_minus'] = False"
   ]
  },
  {
   "cell_type": "code",
   "execution_count": 51,
   "metadata": {},
   "outputs": [],
   "source": [
    "## 设置常数初始化\n",
    "n = 16                   #蓝球数\n",
    "blueball = []             #蓝球列表\n",
    "count_blueball = []       #统计蓝球数\n",
    "y_total = []              #总共期数"
   ]
  },
  {
   "cell_type": "code",
   "execution_count": 52,
   "metadata": {},
   "outputs": [
    {
     "name": "stdout",
     "output_type": "stream",
     "text": [
      "[132, 124, 119, 126, 116, 124, 130, 111, 134, 121, 124, 139, 114, 124, 119, 135]\n"
     ]
    },
    {
     "data": {
      "image/png": "[encoded data removed]",
      "text/plain": [
       "<Figure size 432x288 with 1 Axes>"
      ]
     },
     "metadata": {
      "needs_background": "light"
     },
     "output_type": "display_data"
    }
   ],
   "source": [
    "#网上下载的双色球数据存在ssq.txt文档中，从中读入蓝球数据\n",
    "with open('ssq.txt', 'r') as f:\n",
    "    lines = f.readlines()\n",
    "\n",
    "    for line in lines:\n",
    "        line = line.strip() # 把末尾的'\\n'删掉\n",
    "        #print(line)\n",
    "        blueball += [int(line[-2:])]    #蓝球号码是每行最后2个字符\n",
    "\n",
    "\n",
    "#统计各个蓝球总共出现的次数\n",
    "for i in range(1,17):\n",
    "    count_blueball += [blueball.count(i)]  \n",
    "print(count_blueball)\n",
    "\n",
    "y_total = range(1,len(blueball)+1)\n",
    "\n",
    "#可视化篮球统计情况，发现基本复活随机规律，8号球目前出现次数最少\n",
    "\n",
    "plt.bar(range(1,len(count_blueball)+1),count_blueball,label='蓝球出现次数')  \n",
    "\n",
    "# 在柱状图上显示具体数值\n",
    "for x, y in enumerate(count_blueball):\n",
    "    plt.text(x+1, y + 1, '%s' % y)\n",
    "\n",
    "# 为两条坐标轴设置名称\n",
    "plt.xlabel(\"蓝球号码\")\n",
    "plt.ylabel(\"出现次数\")\n",
    "plt.show()  "
   ]
  },
  {
   "cell_type": "code",
   "execution_count": 53,
   "metadata": {},
   "outputs": [
    {
     "name": "stdout",
     "output_type": "stream",
     "text": [
      "lr.coef_: [-2.27401077]\n",
      "lr.intercept_: 1025.2769204857234\n",
      "Training set score: 0.00\n",
      "Test set score: -0.01\n"
     ]
    }
   ],
   "source": [
    "blueball_np = np.array(blueball).reshape(-1,1)\n",
    "\n",
    "#数据分段，训练与测试\n",
    "X_train, X_test, y_train, y_test = train_test_split(blueball_np, y_total, random_state=0)\n",
    "#先从线性模型开始\n",
    "from sklearn.linear_model import LinearRegression\n",
    "\n",
    "lr = LinearRegression().fit(X_train, y_train)\n",
    "\n",
    "print(\"lr.coef_: {}\".format(lr.coef_))\n",
    "print(\"lr.intercept_: {}\".format(lr.intercept_))\n",
    "lr.coef_: [0.4257403]\n",
    "lr.intercept_: 1238.600326580525\n",
    "print(\"Training set score: {:.2f}\".format(lr.score(X_train, y_train)))\n",
    "print(\"Test set score: {:.2f}\".format(lr.score(X_test, y_test)))"
   ]
  },
  {
   "cell_type": "code",
   "execution_count": 54,
   "metadata": {},
   "outputs": [
    {
     "name": "stdout",
     "output_type": "stream",
     "text": [
      "Test set predictions: [ 239 1587  390  421  390  286  158  286  542  560 1559  421  854  245\n",
      "  158  286  854  239 1587   88  623  560  854  560  286   88 1559   88\n",
      "   88   88   88  239  239  854  286   88  854  286  542  542  836 1587\n",
      "  542   88  560 1587  158  560 1559  421  286  286  779   88  560 1559\n",
      "  239  239  814  542  779  836 1559  854  779  854  421  421  286   88\n",
      " 1559  158  623   88 1587  854  542 1559  245  245  779  779  286 1587\n",
      "  421  814  421  421  239  542  836  836  239  421  158 1587  239  245\n",
      "   88  814  836   88   88  390  239 1587  158 1587 1587  560  158  421\n",
      "  245  390  836   88  836  560  286  158  245  421  239  239 1559  560\n",
      "  421  836  814  836  286  542  854  421  779 1587   88  239  245  286\n",
      "  239  158   88  814 1587  779  854  158 1559  390 1587   88  390  158\n",
      "  158 1559  245  158   88  854 1559  836  814  779  854  560  854 1587\n",
      "  836  814  239  542  390  854  390  286  854  421  286  245  623 1559\n",
      "  542  854  542  245  836  390  245  623  286  836  854  286  814  623\n",
      "  390  421  421  421  421  239  560  286  623  421  779  239  542  836\n",
      "   88  286   88  245   88 1587  560  245  245  239  158  623 1559  158\n",
      "  286   88  854  239  390  158  390 1559  245   88 1587  390  286  390\n",
      "  542  421  854  836  854  836  158  421  421  390  286  836  158  623\n",
      "  421  814  158   88  814  286   88  421  239  836  286  836  814  286\n",
      "  542  542  245  158  560  836 1559 1587  623   88  239  814  390  245\n",
      "  854  239  421  390  542   88  239  390   88  390  390  779  286  542\n",
      "  245  286  542  286  854  814  158  814  560 1559  623  542  286  854\n",
      "   88  814  779  560  854  836   88  623   88  542  239  854  623  542\n",
      "  779  854  421  854  239  854  623   88 1559  542  560  836  854  854\n",
      "  623  814  779 1559  286  836  854  836  542  836  158  286 1559  390\n",
      "  623  390  779  560 1587 1587  779  239  560  286  814  542  421  158\n",
      " 1559  542  421  623  542  421  623  286  390  158 1559  542  623  421\n",
      "  390 1559  421  245  542 1587   88  623  623   88  158  286  390  779\n",
      "  814  286  286  854  854 1587 1587  542 1587  390  836  623  623  390\n",
      "  542  158  623  542  814  286 1587  390  814  245  286  623  542  421\n",
      "  158  286  623  286 1587  286 1559 1587  779  390  158  286  814  814\n",
      "  245  421  158  158  623  779 1559  836  814  542  245  245  390  623\n",
      "  158  836  390 1559  542  421  286  542  836  623 1587  245  623  560\n",
      "  779 1587 1587  390  239  836 1587  814  779   88  286  560  245  836\n",
      "  623  814  245 1587   88  158   88  814  542  286  421  854 1559  421\n",
      "  560  286  245  779  623  814  245  779]\n",
      "Test set accuracy: 0.00\n"
     ]
    }
   ],
   "source": [
    "#k邻近模型\n",
    "from sklearn.neighbors import KNeighborsClassifier\n",
    "clf = KNeighborsClassifier(n_neighbors=2)\n",
    "\n",
    "clf.fit(X_train, y_train)\n",
    "\n",
    "print(\"Test set predictions: {}\".format(clf.predict(X_test)))\n",
    "\n",
    "print(\"Test set accuracy: {:.2f}\".format(clf.score(X_test, y_test)))"
   ]
  },
  {
   "cell_type": "code",
   "execution_count": 55,
   "metadata": {},
   "outputs": [
    {
     "name": "stdout",
     "output_type": "stream",
     "text": [
      "Accuracy on training set: 0.011\n",
      "Accuracy on test set: 0.000\n"
     ]
    }
   ],
   "source": [
    "#决策树模型\n",
    "from sklearn.tree import DecisionTreeClassifier\n",
    "\n",
    "tree = DecisionTreeClassifier(random_state=0)\n",
    "tree.fit(X_train, y_train)\n",
    "print(\"Accuracy on training set: {:.3f}\".format(tree.score(X_train, y_train)))\n",
    "print(\"Accuracy on test set: {:.3f}\".format(tree.score(X_test, y_test)))"
   ]
  },
  {
   "cell_type": "code",
   "execution_count": 252,
   "metadata": {},
   "outputs": [
    {
     "name": "stdout",
     "output_type": "stream",
     "text": [
      "Test score: 0.00\n"
     ]
    }
   ],
   "source": [
    "#核支持向量机\n",
    "from sklearn.svm import SVC\n",
    "from sklearn.preprocessing import MinMaxScaler\n",
    "import mglearn\n",
    "\n",
    "X_train, X_test, y_train, y_test = train_test_split(blueball_np, y_total,random_state=42)\n",
    "\n",
    "#svm = SVC(kernel='rbf', C=10, gamma=0.1).fit(X_train, y_train)\n",
    "# 计算训练数据的最小值和最大值\n",
    "scaler = MinMaxScaler().fit(X_train)\n",
    "# 对训练数据进行缩放\n",
    "\n",
    "scaler.data_max_\n",
    "X_train_scaled = scaler.transform(X_train)\n",
    "\n",
    "svm = SVC()\n",
    "# 在缩放后的训练数据上学习SVM\n",
    "svm.fit(X_train_scaled, y_train)\n",
    "# 对测试数据进行缩放，并计算缩放后的数据的分数\n",
    "X_test_scaled = scaler.transform(X_test)\n",
    "print(\"Test score: {:.2f}\".format(svm.score(X_test_scaled, y_test)))"
   ]
  },
  {
   "cell_type": "code",
   "execution_count": 45,
   "metadata": {
    "scrolled": false
   },
   "outputs": [
    {
     "name": "stdout",
     "output_type": "stream",
     "text": [
      "[132, 124, 119, 126, 116, 124, 130, 111, 134, 121, 124, 139, 114, 124, 119, 135]\n"
     ]
    },
    {
     "data": {
      "image/png": "[encoded data removed]",
      "text/plain": [
       "<Figure size 432x288 with 1 Axes>"
      ]
     },
     "metadata": {
      "needs_background": "light"
     },
     "output_type": "display_data"
    }
   ],
   "source": []
  },
  {
   "cell_type": "code",
   "execution_count": 43,
   "metadata": {},
   "outputs": [
    {
     "data": {
      "text/plain": [
       "0       15\n",
       "1       04\n",
       "2       02\n",
       "3       01\n",
       "4       08\n",
       "        ..\n",
       "2555    16\n",
       "2556    03\n",
       "2557    16\n",
       "2558    12\n",
       "2559    11\n",
       "Name: 蓝球, Length: 2560, dtype: object"
      ]
     },
     "execution_count": 43,
     "metadata": {},
     "output_type": "execute_result"
    }
   ],
   "source": []
  },
  {
   "cell_type": "code",
   "execution_count": null,
   "metadata": {},
   "outputs": [],
   "source": []
  }
 ],
 "metadata": {
  "kernelspec": {
   "display_name": "Python 3",
   "language": "python",
   "name": "python3"
  },
  "language_info": {
   "codemirror_mode": {
    "name": "ipython",
    "version": 3
   },
   "file_extension": ".py",
   "mimetype": "text/x-python",
   "name": "python",
   "nbconvert_exporter": "python",
   "pygments_lexer": "ipython3",
   "version": "3.7.4"
  }
 },
 "nbformat": 4,
 "nbformat_minor": 2
}
